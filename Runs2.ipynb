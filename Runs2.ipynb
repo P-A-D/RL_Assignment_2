{
 "cells": [
  {
   "cell_type": "code",
   "id": "initial_id",
   "metadata": {
    "collapsed": true,
    "ExecuteTime": {
     "end_time": "2024-07-16T12:25:59.149046Z",
     "start_time": "2024-07-16T12:25:57.049871Z"
    }
   },
   "source": [
    "import numpy as np\n",
    "from Part2 import *\n",
    "import matplotlib.pyplot as plt"
   ],
   "outputs": [],
   "execution_count": 2
  },
  {
   "metadata": {},
   "cell_type": "markdown",
   "source": "# Section 1",
   "id": "4cacf16ce431f021"
  },
  {
   "metadata": {},
   "cell_type": "markdown",
   "source": "## 1-1) Monte Carlo ES",
   "id": "4b23abe680312286"
  },
  {
   "metadata": {
    "ExecuteTime": {
     "end_time": "2024-07-13T01:03:23.192898Z",
     "start_time": "2024-07-13T00:54:10.077225Z"
    }
   },
   "cell_type": "code",
   "source": [
    "agent = MonteCarloES()\n",
    "agent.learn()\n",
    "# the estimated optimal policy seems valid "
   ],
   "id": "a344ff1a77aadbac",
   "outputs": [
    {
     "name": "stdout",
     "output_type": "stream",
     "text": [
      "The best policy found:\n",
      "['Right', 'Left ', 'Left ', 'Left ', 'Right']\n",
      "['Right', '  Up ', 'Left ', 'Left ', 'Left ']\n",
      "['  Up ', '  Up ', '  Up ', '  Up ', '  Up ']\n",
      "['  Up ', '  Up ', 'Left ', '  Up ', 'Left ']\n",
      "['  Up ', '  Up ', 'Left ', '  Up ', '  Up ']\n"
     ]
    }
   ],
   "execution_count": 3
  },
  {
   "metadata": {},
   "cell_type": "markdown",
   "source": "## 1-2) Monte Carlo e-soft",
   "id": "833db4eee049399a"
  },
  {
   "metadata": {
    "ExecuteTime": {
     "end_time": "2024-07-13T00:54:10.076067Z",
     "start_time": "2024-07-13T00:49:33.906457Z"
    }
   },
   "cell_type": "code",
   "source": [
    "agent = MonteCarloESoft()\n",
    "agent.learn(epsilon=0.05)\n",
    "\"\"\"\n",
    "The policy found prefers ending the episode when nearby terminal states. this prevents negative rewards but will not yield the highest possible reward achievable. \n",
    "\"\"\";"
   ],
   "id": "b66e68b22ffd2694",
   "outputs": [
    {
     "name": "stdout",
     "output_type": "stream",
     "text": [
      "The best policy found:\n",
      "['Right', 'Down ', 'Left ', 'Left ', 'Down ']\n",
      "['  Up ', '  Up ', '  Up ', '  Up ', '  Up ']\n",
      "['  Up ', '  Up ', '  Up ', 'Right', '  Up ']\n",
      "['Down ', '  Up ', '  Up ', '  Up ', '  Up ']\n",
      "['  Up ', 'Left ', 'Left ', '  Up ', '  Up ']\n"
     ]
    }
   ],
   "execution_count": 2
  },
  {
   "metadata": {
    "ExecuteTime": {
     "end_time": "2024-07-13T01:15:26.974175Z",
     "start_time": "2024-07-13T01:11:46.302414Z"
    }
   },
   "cell_type": "code",
   "source": [
    "agent = MonteCarloESoft()\n",
    "agent.learn(epsilon=0.1)\n",
    "\"\"\"\n",
    "The policy found prefers ending the episode when nearby terminal states. this prevents negative rewards but will not yield the highest possible reward achievable. \n",
    "\"\"\";"
   ],
   "id": "c6f1c0ff9c256931",
   "outputs": [
    {
     "name": "stdout",
     "output_type": "stream",
     "text": [
      "The best policy found:\n",
      "['Right', 'Right', 'Left ', 'Left ', 'Right']\n",
      "['  Up ', '  Up ', '  Up ', '  Up ', '  Up ']\n",
      "['  Up ', '  Up ', '  Up ', 'Right', '  Up ']\n",
      "['Down ', '  Up ', '  Up ', '  Up ', '  Up ']\n",
      "['  Up ', 'Left ', 'Left ', '  Up ', '  Up ']\n"
     ]
    }
   ],
   "execution_count": 2
  },
  {
   "metadata": {
    "ExecuteTime": {
     "end_time": "2024-07-13T01:19:42.425450Z",
     "start_time": "2024-07-13T01:15:26.975129Z"
    }
   },
   "cell_type": "code",
   "source": [
    "agent = MonteCarloESoft()\n",
    "agent.learn(epsilon=0.2)\n",
    "\"\"\"\n",
    "The policy found prefers ending the episode when nearby terminal states. this prevents negative rewards but will not yield the highest possible reward achievable. \n",
    "\"\"\";"
   ],
   "id": "4eea000ecbc3378f",
   "outputs": [
    {
     "name": "stdout",
     "output_type": "stream",
     "text": [
      "The best policy found:\n",
      "['Right', 'Left ', 'Left ', 'Left ', 'Down ']\n",
      "['  Up ', '  Up ', '  Up ', '  Up ', '  Up ']\n",
      "['  Up ', '  Up ', '  Up ', '  Up ', '  Up ']\n",
      "['  Up ', '  Up ', '  Up ', '  Up ', '  Up ']\n",
      "['  Up ', 'Left ', '  Up ', '  Up ', '  Up ']\n"
     ]
    }
   ],
   "execution_count": 3
  },
  {
   "metadata": {
    "ExecuteTime": {
     "end_time": "2024-07-13T01:25:12.553661Z",
     "start_time": "2024-07-13T01:19:42.426837Z"
    }
   },
   "cell_type": "code",
   "source": [
    "agent = MonteCarloESoft()\n",
    "agent.learn(epsilon=0.3)"
   ],
   "id": "78512f15bcb3fb06",
   "outputs": [
    {
     "name": "stdout",
     "output_type": "stream",
     "text": [
      "The best policy found:\n",
      "['Right', 'Right', 'Left ', 'Left ', 'Down ']\n",
      "['  Up ', '  Up ', '  Up ', 'Left ', '  Up ']\n",
      "['  Up ', '  Up ', '  Up ', '  Up ', '  Up ']\n",
      "['  Up ', '  Up ', '  Up ', '  Up ', '  Up ']\n",
      "['  Up ', '  Up ', '  Up ', '  Up ', '  Up ']\n"
     ]
    }
   ],
   "execution_count": 4
  },
  {
   "metadata": {
    "ExecuteTime": {
     "end_time": "2024-07-13T01:36:37.253969Z",
     "start_time": "2024-07-13T01:25:12.554547Z"
    }
   },
   "cell_type": "code",
   "source": [
    "agent = MonteCarloESoft()\n",
    "agent.learn(epsilon=0.4)"
   ],
   "id": "4d234270e21d9b62",
   "outputs": [
    {
     "name": "stdout",
     "output_type": "stream",
     "text": [
      "The best policy found:\n",
      "['Right', 'Right', 'Left ', 'Left ', 'Right']\n",
      "['  Up ', '  Up ', '  Up ', 'Left ', '  Up ']\n",
      "['  Up ', '  Up ', '  Up ', '  Up ', '  Up ']\n",
      "['  Up ', '  Up ', '  Up ', 'Left ', 'Left ']\n",
      "['  Up ', '  Up ', '  Up ', '  Up ', 'Left ']\n"
     ]
    }
   ],
   "execution_count": 5
  },
  {
   "metadata": {
    "ExecuteTime": {
     "end_time": "2024-07-13T01:52:16.294725Z",
     "start_time": "2024-07-13T01:36:37.254797Z"
    }
   },
   "cell_type": "code",
   "source": [
    "agent = MonteCarloESoft()\n",
    "agent.learn(epsilon=0.5)"
   ],
   "id": "cb4c73179f37983c",
   "outputs": [
    {
     "name": "stdout",
     "output_type": "stream",
     "text": [
      "The best policy found:\n",
      "['Right', 'Left ', 'Left ', 'Left ', '  Up ']\n",
      "['  Up ', '  Up ', '  Up ', 'Left ', '  Up ']\n",
      "['  Up ', '  Up ', '  Up ', '  Up ', '  Up ']\n",
      "['  Up ', '  Up ', '  Up ', 'Left ', 'Left ']\n",
      "['  Up ', '  Up ', '  Up ', 'Left ', 'Left ']\n"
     ]
    }
   ],
   "execution_count": 6
  },
  {
   "metadata": {},
   "cell_type": "markdown",
   "source": "# Section 2",
   "id": "7f3b7b2a6fe59b28"
  },
  {
   "metadata": {
    "ExecuteTime": {
     "end_time": "2024-07-13T02:02:07.054719Z",
     "start_time": "2024-07-13T01:58:03.729056Z"
    }
   },
   "cell_type": "code",
   "source": [
    "agent = Behavior()\n",
    "agent.learn(episodes=10**6, max_episode_length=1000)\n",
    "\"\"\"\n",
    "Running the algorithm for 1e6 episodes of maximum length = 1000 took 4:00 minutes.\n",
    "The (estimated) optimal policy below was found:\n",
    "[3 3 2 2 2 1 0 1 0 3 3 3 3 0 2 3 2 2 0 3 0 1 0 1 3]\n",
    "which is clearly not the best policy: it attempts to move outside the grid in some states.\n",
    "\"\"\";"
   ],
   "id": "fd9f6c1dfff8dbdc",
   "outputs": [
    {
     "name": "stdout",
     "output_type": "stream",
     "text": [
      "The best policy found:\n",
      "['Right', '  Up ', 'Right', 'Right', '  Up ']\n",
      "['Right', 'Right', '  Up ', '  Up ', 'Right']\n",
      "['Left ', '  Up ', 'Down ', 'Down ', '  Up ']\n",
      "['Down ', 'Right', '  Up ', 'Left ', 'Down ']\n",
      "['  Up ', 'Left ', 'Down ', '  Up ', 'Left ']\n"
     ]
    }
   ],
   "execution_count": 9
  },
  {
   "metadata": {
    "ExecuteTime": {
     "end_time": "2024-07-13T02:48:27.028394Z",
     "start_time": "2024-07-13T02:02:07.059673Z"
    }
   },
   "cell_type": "code",
   "source": [
    "agent = Behavior()\n",
    "agent.learn(episodes=10**7, max_episode_length=1000)\n",
    "\"\"\"\n",
    "Running the algorithm for 1e7 episodes of maximum length = 1000 took 46:19 minutes.\n",
    "The (estimated) optimal policy below was found:\n",
    "?\n",
    "which is clearly not the best policy: it attempts to move outside the grid in some states.\n",
    "\"\"\";"
   ],
   "id": "1d00d0f49392b9e6",
   "outputs": [
    {
     "name": "stdout",
     "output_type": "stream",
     "text": [
      "The best policy found:\n",
      "['Left ', 'Down ', '  Up ', 'Left ', '  Up ']\n",
      "['Left ', 'Right', 'Down ', 'Down ', 'Right']\n",
      "['  Up ', 'Down ', 'Right', '  Up ', '  Up ']\n",
      "['Left ', 'Left ', '  Up ', 'Right', 'Down ']\n",
      "['  Up ', 'Down ', '  Up ', '  Up ', 'Left ']\n"
     ]
    }
   ],
   "execution_count": 10
  },
  {
   "metadata": {
    "ExecuteTime": {
     "end_time": "2024-07-13T05:39:36.682044Z",
     "start_time": "2024-07-13T02:48:27.030450Z"
    }
   },
   "cell_type": "code",
   "source": [
    "agent = Behavior()\n",
    "agent.learn(episodes=10**8, max_episode_length=1000)\n",
    "\"\"\"\n",
    "Running the algorithm for 1e8 episodes of maximum length = 1000 took more than 171:09 minutes, and was interrupted\n",
    "\"\"\";"
   ],
   "id": "9b4f424b65793526",
   "outputs": [
    {
     "ename": "KeyboardInterrupt",
     "evalue": "",
     "output_type": "error",
     "traceback": [
      "\u001B[0;31m---------------------------------------------------------------------------\u001B[0m",
      "\u001B[0;31mKeyboardInterrupt\u001B[0m                         Traceback (most recent call last)",
      "Cell \u001B[0;32mIn[11], line 2\u001B[0m\n\u001B[1;32m      1\u001B[0m agent \u001B[38;5;241m=\u001B[39m Behavior()\n\u001B[0;32m----> 2\u001B[0m \u001B[43magent\u001B[49m\u001B[38;5;241;43m.\u001B[39;49m\u001B[43mlearn\u001B[49m\u001B[43m(\u001B[49m\u001B[43mepisodes\u001B[49m\u001B[38;5;241;43m=\u001B[39;49m\u001B[38;5;241;43m10\u001B[39;49m\u001B[38;5;241;43m*\u001B[39;49m\u001B[38;5;241;43m*\u001B[39;49m\u001B[38;5;241;43m8\u001B[39;49m\u001B[43m,\u001B[49m\u001B[43m \u001B[49m\u001B[43mmax_episode_length\u001B[49m\u001B[38;5;241;43m=\u001B[39;49m\u001B[38;5;241;43m1000\u001B[39;49m\u001B[43m)\u001B[49m\n\u001B[1;32m      3\u001B[0m \u001B[38;5;124;03m\"\"\"\u001B[39;00m\n\u001B[1;32m      4\u001B[0m \u001B[38;5;124;03mRunning the algorithm for 1eb8 episodes of maximum length = 1000 took ? minutes.\u001B[39;00m\n\u001B[1;32m      5\u001B[0m \u001B[38;5;124;03mThe (estimated) optimal policy below was found:\u001B[39;00m\n\u001B[1;32m      6\u001B[0m \u001B[38;5;124;03m?\u001B[39;00m\n\u001B[1;32m      7\u001B[0m \u001B[38;5;124;03mwhich is clearly not the best policy: it attempts to move outside the grid in some states.\u001B[39;00m\n\u001B[1;32m      8\u001B[0m \u001B[38;5;124;03m\"\"\"\u001B[39;00m;\n",
      "File \u001B[0;32m~/Documents/GitHub/_Codes/RL/Project2/Part2.py:197\u001B[0m, in \u001B[0;36mBehavior.learn\u001B[0;34m(self, discount, episodes, max_episode_length)\u001B[0m\n\u001B[1;32m    195\u001B[0m         \u001B[38;5;28;01mbreak\u001B[39;00m\n\u001B[1;32m    196\u001B[0m     state_sequence\u001B[38;5;241m.\u001B[39mappend(next_state)\n\u001B[0;32m--> 197\u001B[0m     action_sequence\u001B[38;5;241m.\u001B[39mappend(\u001B[38;5;28;43mself\u001B[39;49m\u001B[38;5;241;43m.\u001B[39;49m\u001B[43mbehavior_policy\u001B[49m\u001B[43m(\u001B[49m\u001B[43mnext_state\u001B[49m\u001B[43m)\u001B[49m)\n\u001B[1;32m    199\u001B[0m \u001B[38;5;66;03m# evaluating Q(s,a)\u001B[39;00m\n\u001B[1;32m    200\u001B[0m g \u001B[38;5;241m=\u001B[39m \u001B[38;5;241m0\u001B[39m\n",
      "File \u001B[0;32m~/Documents/GitHub/_Codes/RL/Project2/Part2.py:177\u001B[0m, in \u001B[0;36mBehavior.__init__.<locals>.<lambda>\u001B[0;34m(_)\u001B[0m\n\u001B[1;32m    176\u001B[0m \u001B[38;5;28;01mdef\u001B[39;00m \u001B[38;5;21m__init__\u001B[39m(\u001B[38;5;28mself\u001B[39m):\n\u001B[0;32m--> 177\u001B[0m     \u001B[38;5;28mself\u001B[39m\u001B[38;5;241m.\u001B[39mbehavior_policy \u001B[38;5;241m=\u001B[39m \u001B[38;5;28;01mlambda\u001B[39;00m _: np\u001B[38;5;241m.\u001B[39mrandom\u001B[38;5;241m.\u001B[39mchoice(\u001B[38;5;28mrange\u001B[39m(\u001B[38;5;241m4\u001B[39m))\n\u001B[1;32m    178\u001B[0m     \u001B[38;5;28mself\u001B[39m\u001B[38;5;241m.\u001B[39mstate_action_values \u001B[38;5;241m=\u001B[39m np\u001B[38;5;241m.\u001B[39mrandom\u001B[38;5;241m.\u001B[39mnormal(size\u001B[38;5;241m=\u001B[39m(\u001B[38;5;241m25\u001B[39m, \u001B[38;5;241m4\u001B[39m))\n\u001B[1;32m    179\u001B[0m     \u001B[38;5;28mself\u001B[39m\u001B[38;5;241m.\u001B[39mstate_action_csums \u001B[38;5;241m=\u001B[39m np\u001B[38;5;241m.\u001B[39mzeros((\u001B[38;5;241m25\u001B[39m, \u001B[38;5;241m4\u001B[39m))  \u001B[38;5;66;03m# C(s, a) matrix\u001B[39;00m\n",
      "File \u001B[0;32mnumpy/random/mtrand.pyx:998\u001B[0m, in \u001B[0;36mnumpy.random.mtrand.RandomState.choice\u001B[0;34m()\u001B[0m\n",
      "File \u001B[0;32mnumpy/random/mtrand.pyx:782\u001B[0m, in \u001B[0;36mnumpy.random.mtrand.RandomState.randint\u001B[0;34m()\u001B[0m\n",
      "File \u001B[0;32mnumpy/random/_bounded_integers.pyx:1315\u001B[0m, in \u001B[0;36mnumpy.random._bounded_integers._rand_int64\u001B[0;34m()\u001B[0m\n",
      "File \u001B[0;32m~/Documents/venvs/my3.11.9/lib/python3.11/site-packages/numpy/core/fromnumeric.py:3100\u001B[0m, in \u001B[0;36mprod\u001B[0;34m(a, axis, dtype, out, keepdims, initial, where)\u001B[0m\n\u001B[1;32m   2979\u001B[0m \u001B[38;5;129m@array_function_dispatch\u001B[39m(_prod_dispatcher)\n\u001B[1;32m   2980\u001B[0m \u001B[38;5;28;01mdef\u001B[39;00m \u001B[38;5;21mprod\u001B[39m(a, axis\u001B[38;5;241m=\u001B[39m\u001B[38;5;28;01mNone\u001B[39;00m, dtype\u001B[38;5;241m=\u001B[39m\u001B[38;5;28;01mNone\u001B[39;00m, out\u001B[38;5;241m=\u001B[39m\u001B[38;5;28;01mNone\u001B[39;00m, keepdims\u001B[38;5;241m=\u001B[39mnp\u001B[38;5;241m.\u001B[39m_NoValue,\n\u001B[1;32m   2981\u001B[0m          initial\u001B[38;5;241m=\u001B[39mnp\u001B[38;5;241m.\u001B[39m_NoValue, where\u001B[38;5;241m=\u001B[39mnp\u001B[38;5;241m.\u001B[39m_NoValue):\n\u001B[1;32m   2982\u001B[0m \u001B[38;5;250m    \u001B[39m\u001B[38;5;124;03m\"\"\"\u001B[39;00m\n\u001B[1;32m   2983\u001B[0m \u001B[38;5;124;03m    Return the product of array elements over a given axis.\u001B[39;00m\n\u001B[1;32m   2984\u001B[0m \n\u001B[0;32m   (...)\u001B[0m\n\u001B[1;32m   3098\u001B[0m \u001B[38;5;124;03m    10\u001B[39;00m\n\u001B[1;32m   3099\u001B[0m \u001B[38;5;124;03m    \"\"\"\u001B[39;00m\n\u001B[0;32m-> 3100\u001B[0m     \u001B[38;5;28;01mreturn\u001B[39;00m \u001B[43m_wrapreduction\u001B[49m\u001B[43m(\u001B[49m\u001B[43ma\u001B[49m\u001B[43m,\u001B[49m\u001B[43m \u001B[49m\u001B[43mnp\u001B[49m\u001B[38;5;241;43m.\u001B[39;49m\u001B[43mmultiply\u001B[49m\u001B[43m,\u001B[49m\u001B[43m \u001B[49m\u001B[38;5;124;43m'\u001B[39;49m\u001B[38;5;124;43mprod\u001B[39;49m\u001B[38;5;124;43m'\u001B[39;49m\u001B[43m,\u001B[49m\u001B[43m \u001B[49m\u001B[43maxis\u001B[49m\u001B[43m,\u001B[49m\u001B[43m \u001B[49m\u001B[43mdtype\u001B[49m\u001B[43m,\u001B[49m\u001B[43m \u001B[49m\u001B[43mout\u001B[49m\u001B[43m,\u001B[49m\n\u001B[1;32m   3101\u001B[0m \u001B[43m                          \u001B[49m\u001B[43mkeepdims\u001B[49m\u001B[38;5;241;43m=\u001B[39;49m\u001B[43mkeepdims\u001B[49m\u001B[43m,\u001B[49m\u001B[43m \u001B[49m\u001B[43minitial\u001B[49m\u001B[38;5;241;43m=\u001B[39;49m\u001B[43minitial\u001B[49m\u001B[43m,\u001B[49m\u001B[43m \u001B[49m\u001B[43mwhere\u001B[49m\u001B[38;5;241;43m=\u001B[39;49m\u001B[43mwhere\u001B[49m\u001B[43m)\u001B[49m\n",
      "File \u001B[0;32m~/Documents/venvs/my3.11.9/lib/python3.11/site-packages/numpy/core/fromnumeric.py:88\u001B[0m, in \u001B[0;36m_wrapreduction\u001B[0;34m(obj, ufunc, method, axis, dtype, out, **kwargs)\u001B[0m\n\u001B[1;32m     85\u001B[0m         \u001B[38;5;28;01melse\u001B[39;00m:\n\u001B[1;32m     86\u001B[0m             \u001B[38;5;28;01mreturn\u001B[39;00m reduction(axis\u001B[38;5;241m=\u001B[39maxis, out\u001B[38;5;241m=\u001B[39mout, \u001B[38;5;241m*\u001B[39m\u001B[38;5;241m*\u001B[39mpasskwargs)\n\u001B[0;32m---> 88\u001B[0m \u001B[38;5;28;01mreturn\u001B[39;00m \u001B[43mufunc\u001B[49m\u001B[38;5;241;43m.\u001B[39;49m\u001B[43mreduce\u001B[49m\u001B[43m(\u001B[49m\u001B[43mobj\u001B[49m\u001B[43m,\u001B[49m\u001B[43m \u001B[49m\u001B[43maxis\u001B[49m\u001B[43m,\u001B[49m\u001B[43m \u001B[49m\u001B[43mdtype\u001B[49m\u001B[43m,\u001B[49m\u001B[43m \u001B[49m\u001B[43mout\u001B[49m\u001B[43m,\u001B[49m\u001B[43m \u001B[49m\u001B[38;5;241;43m*\u001B[39;49m\u001B[38;5;241;43m*\u001B[39;49m\u001B[43mpasskwargs\u001B[49m\u001B[43m)\u001B[49m\n",
      "\u001B[0;31mKeyboardInterrupt\u001B[0m: "
     ]
    }
   ],
   "execution_count": 11
  },
  {
   "metadata": {
    "ExecuteTime": {
     "end_time": "2024-07-16T12:26:22.632359Z",
     "start_time": "2024-07-16T12:26:02.171511Z"
    }
   },
   "cell_type": "code",
   "source": [
    "agent = Behavior()\n",
    "agent.learn(episodes=10**5, max_episode_length=50)\n",
    "\"\"\"\n",
    "Running the algorithm for 1e5 episodes of maximum length = 50 took 00:20 minutes to complete.\n",
    "\"\"\";"
   ],
   "id": "ef608ab160435227",
   "outputs": [
    {
     "name": "stdout",
     "output_type": "stream",
     "text": [
      "The best policy found:\n",
      "['Right', 'Right', 'Left ', 'Left ', 'Left ']\n",
      "['  Up ', '  Up ', '  Up ', '  Up ', '  Up ']\n",
      "['  Up ', '  Up ', 'Left ', '  Up ', '  Up ']\n",
      "['Down ', '  Up ', '  Up ', 'Left ', 'Left ']\n",
      "['  Up ', '  Up ', 'Down ', 'Left ', '  Up ']\n"
     ]
    }
   ],
   "execution_count": 3
  },
  {
   "metadata": {
    "ExecuteTime": {
     "end_time": "2024-07-16T12:30:45.985281Z",
     "start_time": "2024-07-16T12:27:22.637943Z"
    }
   },
   "cell_type": "code",
   "source": [
    "agent = Behavior()\n",
    "agent.learn(episodes=10**6, max_episode_length=50)\n",
    "\"\"\"\n",
    "Running the algorithm for 1e6 episodes of maximum length = 50 took 3:23 minutes to complete.\n",
    "\"\"\";"
   ],
   "id": "b10aa4814146d300",
   "outputs": [
    {
     "name": "stdout",
     "output_type": "stream",
     "text": [
      "The best policy found:\n",
      "['Right', 'Left ', 'Left ', 'Left ', 'Down ']\n",
      "['Right', '  Up ', 'Left ', '  Up ', 'Left ']\n",
      "['  Up ', '  Up ', '  Up ', 'Down ', '  Up ']\n",
      "['  Up ', 'Left ', '  Up ', 'Left ', 'Left ']\n",
      "['  Up ', 'Right', '  Up ', '  Up ', '  Up ']\n"
     ]
    }
   ],
   "execution_count": 4
  },
  {
   "metadata": {
    "ExecuteTime": {
     "end_time": "2024-07-16T12:34:49.399779Z",
     "start_time": "2024-07-16T12:34:34.624313Z"
    }
   },
   "cell_type": "code",
   "source": [
    "agent = Behavior()\n",
    "agent.learn(episodes=10**5, max_episode_length=20)\n",
    "\"\"\"\n",
    "Running the algorithm for 1e6 episodes of maximum length = 20 took 0:14 minutes to complete.\n",
    "\"\"\";"
   ],
   "id": "af40ee6ced5a6d5c",
   "outputs": [
    {
     "name": "stdout",
     "output_type": "stream",
     "text": [
      "The best policy found:\n",
      "['Right', 'Left ', 'Left ', 'Left ', 'Right']\n",
      "['  Up ', '  Up ', 'Left ', '  Up ', '  Up ']\n",
      "['Left ', '  Up ', '  Up ', 'Left ', '  Up ']\n",
      "['  Up ', 'Left ', '  Up ', 'Right', 'Left ']\n",
      "['  Up ', 'Left ', 'Down ', '  Up ', '  Up ']\n"
     ]
    }
   ],
   "execution_count": 5
  },
  {
   "metadata": {
    "ExecuteTime": {
     "end_time": "2024-07-16T12:37:48.658828Z",
     "start_time": "2024-07-16T12:35:20.192513Z"
    }
   },
   "cell_type": "code",
   "source": [
    "agent = Behavior()\n",
    "agent.learn(episodes=10**6, max_episode_length=20)\n",
    "\"\"\"\n",
    "Running the algorithm for 1e6 episodes of maximum length = 20 took 2:28 minutes to complete.\n",
    "\"\"\";"
   ],
   "id": "9d0af4d0120aec4b",
   "outputs": [
    {
     "name": "stdout",
     "output_type": "stream",
     "text": [
      "The best policy found:\n",
      "['Right', '  Up ', 'Left ', 'Left ', 'Down ']\n",
      "['Right', '  Up ', '  Up ', '  Up ', 'Left ']\n",
      "['  Up ', '  Up ', '  Up ', '  Up ', '  Up ']\n",
      "['Right', '  Up ', '  Up ', 'Down ', 'Down ']\n",
      "['  Up ', '  Up ', '  Up ', 'Left ', '  Up ']\n"
     ]
    }
   ],
   "execution_count": 6
  },
  {
   "metadata": {
    "ExecuteTime": {
     "end_time": "2024-07-16T12:42:37.236091Z",
     "start_time": "2024-07-16T12:42:16.554479Z"
    }
   },
   "cell_type": "code",
   "source": [
    "agent = Behavior()\n",
    "agent.learn(episodes=10**5, max_episode_length=60)\n",
    "\"\"\"\n",
    "Running the algorithm for 1e6 episodes of maximum length = 60 took 0:20 minutes to complete.\n",
    "\"\"\";"
   ],
   "id": "4a5f5687f033a370",
   "outputs": [
    {
     "name": "stdout",
     "output_type": "stream",
     "text": [
      "The best policy found:\n",
      "['Right', '  Up ', 'Left ', 'Left ', 'Left ']\n",
      "['Right', '  Up ', '  Up ', 'Right', 'Left ']\n",
      "['  Up ', '  Up ', 'Left ', '  Up ', '  Up ']\n",
      "['  Up ', '  Up ', 'Left ', 'Right', '  Up ']\n",
      "['  Up ', '  Up ', 'Left ', '  Up ', '  Up ']\n"
     ]
    }
   ],
   "execution_count": 7
  },
  {
   "metadata": {
    "ExecuteTime": {
     "end_time": "2024-07-16T12:46:40.447972Z",
     "start_time": "2024-07-16T12:43:11.884159Z"
    }
   },
   "cell_type": "code",
   "source": [
    "agent = Behavior()\n",
    "agent.learn(episodes=10**6, max_episode_length=60)\n",
    "\"\"\"\n",
    "Running the algorithm for 1e6 episodes of maximum length = 60 took 3:28 minutes to complete.\n",
    "\"\"\";"
   ],
   "id": "418090ea6d2b222",
   "outputs": [
    {
     "name": "stdout",
     "output_type": "stream",
     "text": [
      "The best policy found:\n",
      "['Down ', 'Left ', 'Left ', 'Right', 'Left ']\n",
      "['Right', '  Up ', 'Left ', 'Left ', '  Up ']\n",
      "['  Up ', '  Up ', 'Left ', 'Left ', '  Up ']\n",
      "['Right', '  Up ', '  Up ', '  Up ', 'Left ']\n",
      "['  Up ', 'Left ', '  Up ', 'Left ', '  Up ']\n"
     ]
    }
   ],
   "execution_count": 8
  },
  {
   "metadata": {
    "ExecuteTime": {
     "end_time": "2024-07-16T13:25:15.168126Z",
     "start_time": "2024-07-16T12:46:40.449064Z"
    }
   },
   "cell_type": "code",
   "source": [
    "agent = Behavior()\n",
    "agent.learn(episodes=10**7, max_episode_length=60)\n",
    "\"\"\"\n",
    "Running the algorithm for 1e6 episodes of maximum length = 60 took 38:34 minutes to complete.\n",
    "\"\"\";"
   ],
   "id": "53a24ee677550dd",
   "outputs": [
    {
     "name": "stdout",
     "output_type": "stream",
     "text": [
      "The best policy found:\n",
      "['Down ', 'Right', 'Left ', '  Up ', '  Up ']\n",
      "['Right', '  Up ', 'Left ', 'Down ', '  Up ']\n",
      "['  Up ', '  Up ', '  Up ', 'Left ', '  Up ']\n",
      "['Right', '  Up ', '  Up ', 'Left ', 'Left ']\n",
      "['  Up ', '  Up ', 'Left ', '  Up ', '  Up ']\n"
     ]
    }
   ],
   "execution_count": 9
  },
  {
   "metadata": {
    "ExecuteTime": {
     "end_time": "2024-07-16T13:55:32.525976Z",
     "start_time": "2024-07-16T13:55:13.876816Z"
    }
   },
   "cell_type": "code",
   "source": [
    "agent = Behavior()\n",
    "agent.learn(episodes=10**5, max_episode_length=30)\n",
    "\"\"\"\n",
    "Running the algorithm for 1e6 episodes of maximum length = 60 took 00:18 minutes to complete.\n",
    "\"\"\";"
   ],
   "id": "beadd42c5290fe1b",
   "outputs": [
    {
     "name": "stdout",
     "output_type": "stream",
     "text": [
      "The best policy found:\n",
      "['Right', 'Left ', 'Left ', 'Down ', 'Right']\n",
      "['  Up ', '  Up ', 'Left ', 'Left ', '  Up ']\n",
      "['  Up ', '  Up ', 'Right', '  Up ', '  Up ']\n",
      "['Left ', 'Right', 'Right', '  Up ', '  Up ']\n",
      "['  Up ', 'Down ', '  Up ', 'Left ', 'Left ']\n"
     ]
    }
   ],
   "execution_count": 19
  },
  {
   "metadata": {
    "ExecuteTime": {
     "end_time": "2024-07-16T13:58:47.166373Z",
     "start_time": "2024-07-16T13:55:46.550884Z"
    }
   },
   "cell_type": "code",
   "source": [
    "agent = Behavior()\n",
    "agent.learn(episodes=10**6, max_episode_length=30)\n",
    "\"\"\"\n",
    "Running the algorithm for 1e6 episodes of maximum length = 60 took 3:00 minutes to complete.\n",
    "\"\"\";"
   ],
   "id": "c87cd3ddc2a63f9a",
   "outputs": [
    {
     "name": "stdout",
     "output_type": "stream",
     "text": [
      "The best policy found:\n",
      "['Right', 'Right', 'Left ', 'Left ', 'Right']\n",
      "['Right', '  Up ', '  Up ', '  Up ', '  Up ']\n",
      "['  Up ', '  Up ', '  Up ', 'Left ', '  Up ']\n",
      "['  Up ', '  Up ', '  Up ', 'Left ', 'Left ']\n",
      "['  Up ', '  Up ', 'Right', '  Up ', 'Left ']\n"
     ]
    }
   ],
   "execution_count": 20
  },
  {
   "metadata": {
    "jupyter": {
     "is_executing": true
    },
    "ExecuteTime": {
     "start_time": "2024-07-16T13:58:47.167550Z"
    }
   },
   "cell_type": "code",
   "source": [
    "agent = Behavior()\n",
    "agent.learn(episodes=10**7, max_episode_length=30)\n",
    "\"\"\"\n",
    "Running the algorithm for 1e6 episodes of maximum length = 60 took 38:34 minutes to complete.\n",
    "\"\"\";"
   ],
   "id": "4de94eacfadadf5f",
   "outputs": [],
   "execution_count": null
  },
  {
   "metadata": {},
   "cell_type": "markdown",
   "source": "# Section 3: Using policy iteration for optimal policy estimation",
   "id": "4c89dccfa9d0f8a4"
  },
  {
   "metadata": {},
   "cell_type": "markdown",
   "source": "## Without permutation ",
   "id": "61aaa093c9e965e8"
  },
  {
   "metadata": {
    "ExecuteTime": {
     "end_time": "2024-07-13T01:52:59.151216Z",
     "start_time": "2024-07-13T01:52:37.764195Z"
    }
   },
   "cell_type": "code",
   "source": [
    "agent = PolicyIteration(permute=False)\n",
    "agent.estimate_optimal_policy(patience=1000, reach_patience=False)\n",
    "visualize_results(agent.value_function, \"Policy Iteration\")\n",
    "print(f\"Estimated optimal policy = {agent.policy}\")\n",
    "\"\"\"\n",
    "Running the algorithm took 20 seconds to converge.\n",
    "The optimal policy below was found:\n",
    "[3. 1. 2. 3. 1. 0. 0. 0. 0. 0. 0. 0. 0. 0. 0. 0. 0. 0. 0. 2. 0. 0. 0. 0. 0.]\n",
    "This policy does makes sense and seems to be the optimal for this problem.\n",
    "The state value functions are less than that of question 1 due to the existence of the -0.2 reward for moving between two white blocks and two terminal states. \n",
    "\"\"\";\n",
    "# optimal policy: [3. 1. 2. 2. 2. 0. 0. 0. 0. 2. 0. 0. 0. 0. 0. 0. 0. 0. 0. 2. 0. 0. 0. 0. 0.]"
   ],
   "id": "da2ca128e2f9202d",
   "outputs": [
    {
     "name": "stdout",
     "output_type": "stream",
     "text": [
      "Counter at termination = 4\n",
      "The best policy found:\n",
      "['Right', 'Down ', 'Left ', 'Left ', 'Left ']\n",
      "['  Up ', '  Up ', '  Up ', '  Up ', 'Left ']\n",
      "['  Up ', '  Up ', '  Up ', '  Up ', '  Up ']\n",
      "['  Up ', '  Up ', '  Up ', '  Up ', 'Left ']\n",
      "['  Up ', '  Up ', '  Up ', '  Up ', '  Up ']\n"
     ]
    },
    {
     "data": {
      "text/plain": [
       "<Figure size 640x480 with 2 Axes>"
      ],
      "image/png": "[encoded data removed]"
     },
     "metadata": {},
     "output_type": "display_data"
    },
    {
     "name": "stdout",
     "output_type": "stream",
     "text": [
      "Estimated optimal policy = [3. 1. 2. 2. 2. 0. 0. 0. 0. 2. 0. 0. 0. 0. 0. 0. 0. 0. 0. 2. 0. 0. 0. 0.\n",
      " 0.]\n"
     ]
    }
   ],
   "execution_count": 8
  },
  {
   "metadata": {},
   "cell_type": "markdown",
   "source": "## With permutation (100 epochs)",
   "id": "798fd2f7521cfc06"
  },
  {
   "metadata": {},
   "cell_type": "code",
   "outputs": [
    {
     "name": "stdout",
     "output_type": "stream",
     "text": [
      "Counter at termination = 100\n"
     ]
    },
    {
     "data": {
      "text/plain": [
       "<Figure size 640x480 with 2 Axes>"
      ],
      "image/png": "[encoded data removed]"
     },
     "metadata": {},
     "output_type": "display_data"
    },
    {
     "name": "stdout",
     "output_type": "stream",
     "text": [
      "Estimated optimal policy = [3. 1. 2. 3. 1. 0. 0. 0. 0. 0. 0. 0. 0. 0. 0. 0. 0. 0. 0. 2. 0. 0. 0. 0.\n",
      " 0.]\n"
     ]
    }
   ],
   "execution_count": 3,
   "source": [
    "agent = PolicyIteration(permute=True)\n",
    "agent.estimate_optimal_policy(patience=100, reach_patience=True)\n",
    "visualize_results(agent.value_function, \"Policy Iteration\")\n",
    "print(f\"Optimal policy: {agent.policy}\")\n",
    "\"\"\"\n",
    "Running the algorithm for 100 epochs (even after policy convergence) took 6:25 minutes.\n",
    "The optimal policy below was found:\n",
    "[3. 1. 2. 3. 1. 0. 0. 0. 0. 0. 0. 0. 0. 0. 0. 0. 0. 0. 0. 2. 0. 0. 0. 0. 0.]\n",
    "If the permutation occurs infinitely, the blue and green blocks will spend a similar amount of time in each other's places and the effects of initial positions will diminish. By running the policy iteration algorithm for 100 epochs, the optimal policy seems to be reaching the closest position that yields a reward of +5 or +2.5 and not always going for the blue square.\n",
    "\"\"\";"
   ],
   "id": "6eca6a37fc2b9634"
  },
  {
   "metadata": {},
   "cell_type": "markdown",
   "source": "## With permutation (1000 epochs)",
   "id": "de093fa57e672663"
  },
  {
   "metadata": {
    "ExecuteTime": {
     "end_time": "2024-07-12T22:47:36.656394Z",
     "start_time": "2024-07-12T21:40:03.724202Z"
    }
   },
   "cell_type": "code",
   "source": [
    "agent = PolicyIteration(permute=True)\n",
    "agent.estimate_optimal_policy(patience=1000, reach_patience=True)\n",
    "visualize_results(agent.value_function, \"Policy Iteration\")\n",
    "print(f\"Optimal policy: {agent.policy}\")\n",
    "\"\"\"\n",
    "Running the algorithm for 1000 epochs (even after policy convergence) took 67:32 minutes and yielded exactly the same results of the 100 epoch run.\n",
    "\"\"\";"
   ],
   "id": "a7a8b625100b0df9",
   "outputs": [
    {
     "name": "stdout",
     "output_type": "stream",
     "text": [
      "Counter at termination = 1000\n"
     ]
    },
    {
     "data": {
      "text/plain": [
       "<Figure size 640x480 with 2 Axes>"
      ],
      "image/png": "[encoded data removed]"
     },
     "metadata": {},
     "output_type": "display_data"
    },
    {
     "name": "stdout",
     "output_type": "stream",
     "text": [
      "Optimal policy: [3. 1. 2. 3. 1. 0. 0. 0. 0. 0. 0. 0. 0. 0. 0. 0. 0. 0. 0. 2. 0. 0. 0. 0.\n",
      " 0.]\n"
     ]
    }
   ],
   "execution_count": 2
  }
 ],
 "metadata": {
  "kernelspec": {
   "display_name": "Python 3",
   "language": "python",
   "name": "python3"
  },
  "language_info": {
   "codemirror_mode": {
    "name": "ipython",
    "version": 2
   },
   "file_extension": ".py",
   "mimetype": "text/x-python",
   "name": "python",
   "nbconvert_exporter": "python",
   "pygments_lexer": "ipython2",
   "version": "2.7.6"
  }
 },
 "nbformat": 4,
 "nbformat_minor": 5
}
