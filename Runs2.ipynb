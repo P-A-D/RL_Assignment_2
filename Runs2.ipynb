{
 "cells": [
  {
   "cell_type": "code",
   "id": "initial_id",
   "metadata": {
    "collapsed": true,
    "ExecuteTime": {
     "end_time": "2024-07-12T16:52:30.974053Z",
     "start_time": "2024-07-12T16:52:29.735164Z"
    }
   },
   "source": [
    "import numpy as np\n",
    "from Part2 import *\n",
    "import matplotlib.pyplot as plt"
   ],
   "outputs": [],
   "execution_count": 1
  },
  {
   "metadata": {},
   "cell_type": "markdown",
   "source": [
    "# Important note\n",
    "Actions are encoded as below:\n",
    "1. move up    = 0 \n",
    "2. move down  = 1 \n",
    "3. move left  = 2 \n",
    "4. move right = 3"
   ],
   "id": "77561e21e5eb934c"
  },
  {
   "metadata": {},
   "cell_type": "markdown",
   "source": "# Section 1",
   "id": "4cacf16ce431f021"
  },
  {
   "metadata": {},
   "cell_type": "markdown",
   "source": "## 1-1) Monte Carlo ES",
   "id": "4b23abe680312286"
  },
  {
   "metadata": {
    "ExecuteTime": {
     "end_time": "2024-07-05T21:47:00.343069Z",
     "start_time": "2024-07-05T21:43:00.243438Z"
    }
   },
   "cell_type": "code",
   "source": [
    "agent = MonteCarloES()\n",
    "agent.learn()"
   ],
   "id": "7283329dc4dac010",
   "outputs": [
    {
     "name": "stdout",
     "output_type": "stream",
     "text": [
      "[3 2 2 2 2 0 0 0 2 2 0 0 0 0 0 0 0 0 0 2 0 0 0 2 2]\n"
     ]
    }
   ],
   "execution_count": 2
  },
  {
   "metadata": {},
   "cell_type": "markdown",
   "source": "## 1-2) Monte Carlo e-soft",
   "id": "833db4eee049399a"
  },
  {
   "metadata": {},
   "cell_type": "code",
   "outputs": [
    {
     "name": "stdout",
     "output_type": "stream",
     "text": [
      "The best policy found is [3 3 2 2 3 0 0 0 0 0 0 0 0 3 0 1 0 0 0 0 1 2 2 0 0]\n"
     ]
    }
   ],
   "execution_count": 5,
   "source": [
    "agent = MonteCarloESoft()\n",
    "agent.learn(epsilon=0.05)"
   ],
   "id": "b66e68b22ffd2694"
  },
  {
   "metadata": {
    "ExecuteTime": {
     "end_time": "2024-07-05T22:04:19.860399Z",
     "start_time": "2024-07-05T22:00:56.362486Z"
    }
   },
   "cell_type": "code",
   "source": [
    "agent = MonteCarloESoft()\n",
    "agent.learn(epsilon=0.1)"
   ],
   "id": "c6f1c0ff9c256931",
   "outputs": [
    {
     "name": "stdout",
     "output_type": "stream",
     "text": [
      "The best policy found is [3 2 2 2 1 0 0 0 0 0 0 0 0 3 0 1 0 0 0 0 1 2 2 0 0]\n"
     ]
    }
   ],
   "execution_count": 2
  },
  {
   "metadata": {
    "ExecuteTime": {
     "end_time": "2024-07-05T22:08:21.372374Z",
     "start_time": "2024-07-05T22:04:19.861394Z"
    }
   },
   "cell_type": "code",
   "source": [
    "agent = MonteCarloESoft()\n",
    "agent.learn(epsilon=0.2)"
   ],
   "id": "4eea000ecbc3378f",
   "outputs": [
    {
     "name": "stdout",
     "output_type": "stream",
     "text": [
      "The best policy found is [3 2 2 2 1 0 0 0 0 0 0 0 0 0 0 0 0 0 0 0 0 2 0 0 0]\n"
     ]
    }
   ],
   "execution_count": 3
  },
  {
   "metadata": {
    "ExecuteTime": {
     "end_time": "2024-07-05T22:13:30.970910Z",
     "start_time": "2024-07-05T22:08:21.373724Z"
    }
   },
   "cell_type": "code",
   "source": [
    "agent = MonteCarloESoft()\n",
    "agent.learn(epsilon=0.3)"
   ],
   "id": "78512f15bcb3fb06",
   "outputs": [
    {
     "name": "stdout",
     "output_type": "stream",
     "text": [
      "The best policy found is [3 2 2 2 2 0 0 0 2 0 0 0 0 0 0 0 0 0 0 0 0 0 0 0 0]\n"
     ]
    }
   ],
   "execution_count": 4
  },
  {
   "metadata": {},
   "cell_type": "markdown",
   "source": "# Section 2",
   "id": "7f3b7b2a6fe59b28"
  },
  {
   "metadata": {
    "ExecuteTime": {
     "end_time": "2024-07-12T16:56:36.009159Z",
     "start_time": "2024-07-12T16:52:35.886529Z"
    }
   },
   "cell_type": "code",
   "source": [
    "agent = Behavior()\n",
    "agent.learn(episodes=10**6, max_episode_length=1000)\n",
    "\"\"\"\n",
    "Running the algorithm for 1e6 episodes of maximum length = 1000 took 4:00 minutes.\n",
    "The (estimated) optimal policy below was found:\n",
    "[3 3 2 2 2 1 0 1 0 3 3 3 3 0 2 3 2 2 0 3 0 1 0 1 3]\n",
    "which is clearly not the best policy: it attempts to move outside the grid in some states.\n",
    "\"\"\";"
   ],
   "id": "fd9f6c1dfff8dbdc",
   "outputs": [
    {
     "name": "stdout",
     "output_type": "stream",
     "text": [
      "The best policy found is [3 3 2 2 2 1 0 1 0 3 3 3 3 0 2 3 2 2 0 3 0 1 0 1 3]\n"
     ]
    }
   ],
   "execution_count": 2
  },
  {
   "metadata": {},
   "cell_type": "code",
   "source": [
    "agent = Behavior()\n",
    "agent.learn(episodes=10**7, max_episode_length=1000)\n",
    "\"\"\"\n",
    "Running the algorithm for 1e7 episodes of maximum length = 1000 took ? minutes.\n",
    "The (estimated) optimal policy below was found:\n",
    "?\n",
    "which is clearly not the best policy: it attempts to move outside the grid in some states.\n",
    "\"\"\";"
   ],
   "id": "1d00d0f49392b9e6",
   "outputs": [],
   "execution_count": null
  },
  {
   "metadata": {},
   "cell_type": "code",
   "source": [
    "agent = Behavior()\n",
    "agent.learn(episodes=10**8, max_episode_length=1000)\n",
    "\"\"\"\n",
    "Running the algorithm for 1eb8 episodes of maximum length = 1000 took ? minutes.\n",
    "The (estimated) optimal policy below was found:\n",
    "?\n",
    "which is clearly not the best policy: it attempts to move outside the grid in some states.\n",
    "\"\"\";"
   ],
   "id": "9b4f424b65793526",
   "outputs": [],
   "execution_count": null
  },
  {
   "metadata": {
    "ExecuteTime": {
     "end_time": "2024-07-12T16:50:16.923993Z",
     "start_time": "2024-07-12T16:46:24.974703Z"
    }
   },
   "cell_type": "code",
   "source": [
    "agent = Behavior()\n",
    "agent.learn(episodes=10**6, max_episode_length=10000)\n",
    "\"\"\"\n",
    "Running the algorithm for 1e6 episodes of maximum length = 10000 took 3:51 minutes.\n",
    "The (estimated) optimal policy below was found:\n",
    "[1 1 2 0 2 1 0 0 1 0 1 0 2 0 0 3 2 2 2 3 0 3 3 0 3]\n",
    "which is clearly not the best policy: it attempts to move outside the grid in some states.\n",
    "\"\"\";"
   ],
   "id": "f0bd4960d010e32d",
   "outputs": [
    {
     "name": "stdout",
     "output_type": "stream",
     "text": [
      "The best policy found is [1 1 2 0 2 1 0 0 1 0 1 0 2 0 0 3 2 2 2 3 0 3 3 0 3]\n"
     ]
    }
   ],
   "execution_count": 6
  },
  {
   "metadata": {},
   "cell_type": "code",
   "source": [
    "agent = Behavior()\n",
    "agent.learn(episodes=10**7, max_episode_length=10000)\n",
    "\"\"\"\n",
    "Running the algorithm for 1e7 episodes of maximum length = 10000 took ? minutes.\n",
    "The (estimated) optimal policy below was found:\n",
    "?\n",
    "which is clearly not the best policy: it attempts to move outside the grid in some states.\n",
    "\"\"\";"
   ],
   "id": "c102e218617bdf8d",
   "outputs": [],
   "execution_count": null
  },
  {
   "metadata": {},
   "cell_type": "code",
   "source": [
    "agent = Behavior()\n",
    "agent.learn(episodes=10**8, max_episode_length=10000)\n",
    "\"\"\"\n",
    "Running the algorithm for 1e8 episodes of maximum length = 10000 took ? minutes.\n",
    "The (estimated) optimal policy below was found:\n",
    "?\n",
    "which is clearly not the best policy: it attempts to move outside the grid in some states.\n",
    "\"\"\";"
   ],
   "id": "f4a8ae6a50abe935",
   "outputs": [],
   "execution_count": null
  },
  {
   "metadata": {},
   "cell_type": "markdown",
   "source": "# Section 3: Using policy iteration for optimal policy estimation",
   "id": "4c89dccfa9d0f8a4"
  },
  {
   "metadata": {},
   "cell_type": "markdown",
   "source": "## Without permutation ",
   "id": "61aaa093c9e965e8"
  },
  {
   "metadata": {
    "ExecuteTime": {
     "end_time": "2024-07-12T16:39:17.715212Z",
     "start_time": "2024-07-12T16:38:57.769412Z"
    }
   },
   "cell_type": "code",
   "source": [
    "agent = PolicyIteration(permute=False)\n",
    "agent.estimate_optimal_policy(patience=1000, reach_patience=False)\n",
    "visualize_results(agent.value_function, \"Policy Iteration\")\n",
    "print(f\"Estimated optimal policy = {agent.policy}\")\n",
    "\"\"\"\n",
    "Running the algorithm took 20 seconds to converge.\n",
    "The optimal policy below was found:\n",
    "[3. 1. 2. 3. 1. 0. 0. 0. 0. 0. 0. 0. 0. 0. 0. 0. 0. 0. 0. 2. 0. 0. 0. 0. 0.]\n",
    "This policy does makes sense and seems to be the optimal for this problem.\n",
    "The state value functions are less than that of question 1 due to the existence of the -0.2 reward for moving between two white blocks and two terminal states. \n",
    "\"\"\";\n",
    "# optimal policy: [3. 1. 2. 2. 2. 0. 0. 0. 0. 2. 0. 0. 0. 0. 0. 0. 0. 0. 0. 2. 0. 0. 0. 0. 0.]"
   ],
   "id": "da2ca128e2f9202d",
   "outputs": [
    {
     "name": "stdout",
     "output_type": "stream",
     "text": [
      "Counter at termination = 4\n"
     ]
    },
    {
     "data": {
      "text/plain": [
       "<Figure size 640x480 with 2 Axes>"
      ],
      "image/png": "[encoded data removed]"
     },
     "metadata": {},
     "output_type": "display_data"
    },
    {
     "name": "stdout",
     "output_type": "stream",
     "text": [
      "Estimated optimal policy = [3. 1. 2. 2. 2. 0. 0. 0. 0. 2. 0. 0. 0. 0. 0. 0. 0. 0. 0. 2. 0. 0. 0. 0.\n",
      " 0.]\n"
     ]
    }
   ],
   "execution_count": 3
  },
  {
   "metadata": {},
   "cell_type": "markdown",
   "source": "## With permutation ",
   "id": "798fd2f7521cfc06"
  },
  {
   "metadata": {},
   "cell_type": "code",
   "outputs": [
    {
     "name": "stdout",
     "output_type": "stream",
     "text": [
      "Counter at termination = 100\n"
     ]
    },
    {
     "data": {
      "text/plain": [
       "<Figure size 640x480 with 2 Axes>"
      ],
      "image/png": "[encoded data removed]"
     },
     "metadata": {},
     "output_type": "display_data"
    },
    {
     "name": "stdout",
     "output_type": "stream",
     "text": [
      "Estimated optimal policy = [3. 1. 2. 3. 1. 0. 0. 0. 0. 0. 0. 0. 0. 0. 0. 0. 0. 0. 0. 2. 0. 0. 0. 0.\n",
      " 0.]\n"
     ]
    }
   ],
   "execution_count": 3,
   "source": [
    "agent = PolicyIteration(permute=True)\n",
    "agent.estimate_optimal_policy(patience=100, reach_patience=True)\n",
    "visualize_results(agent.value_function, \"Policy Iteration\")\n",
    "print(f\"Optimal policy: {agent.policy}\")\n",
    "\"\"\"\n",
    "Running the algorithm for 100 epochs (even after policy convergence) took 6:25 minutes.\n",
    "The optimal policy below was found:\n",
    "[3. 1. 2. 3. 1. 0. 0. 0. 0. 0. 0. 0. 0. 0. 0. 0. 0. 0. 0. 2. 0. 0. 0. 0. 0.]\n",
    "If the permutation occurs infinitely, the blue and green blocks will spend a similar amount of time in each other's places and the effects of initial positions will diminish. By running the policy iteration algorithm for 100 epochs, the optimal policy seems to be reaching the closest position that yields a reward of +5 or +2.5 and not always going for the blue square.\n",
    "\"\"\";"
   ],
   "id": "6eca6a37fc2b9634"
  }
 ],
 "metadata": {
  "kernelspec": {
   "display_name": "Python 3",
   "language": "python",
   "name": "python3"
  },
  "language_info": {
   "codemirror_mode": {
    "name": "ipython",
    "version": 2
   },
   "file_extension": ".py",
   "mimetype": "text/x-python",
   "name": "python",
   "nbconvert_exporter": "python",
   "pygments_lexer": "ipython2",
   "version": "2.7.6"
  }
 },
 "nbformat": 4,
 "nbformat_minor": 5
}
